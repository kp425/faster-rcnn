{
  "nbformat": 4,
  "nbformat_minor": 0,
  "metadata": {
    "colab": {
      "name": "VOC2007 to TFrecords kaggle.ipynb",
      "provenance": []
    },
    "kernelspec": {
      "name": "python3",
      "display_name": "Python 3"
    },
    "language_info": {
      "name": "python"
    }
  },
  "cells": [
    {
      "cell_type": "code",
      "metadata": {
        "id": "MDe4ohxB4xvj"
      },
      "source": [
        "import os\n",
        "import cv2 as cv\n",
        "cv2 = cv\n",
        "import numpy as np\n",
        "import matplotlib as mpl\n",
        "import matplotlib.pyplot as plt\n",
        "import tensorflow as tf\n",
        "import tensorflow_datasets as tfds"
      ],
      "execution_count": null,
      "outputs": []
    },
    {
      "cell_type": "code",
      "metadata": {
        "id": "anz3PLUN48cG"
      },
      "source": [
        "train_ds, val_ds, test_ds = tfds.load('voc/2007', split=['train', 'validation', 'test'])\n",
        "\n",
        "print(tf.data.experimental.cardinality(train_ds))\n",
        "print(tf.data.experimental.cardinality(val_ds))\n",
        "print(tf.data.experimental.cardinality(test_ds))"
      ],
      "execution_count": null,
      "outputs": []
    },
    {
      "cell_type": "markdown",
      "metadata": {
        "id": "B-VUJMaA5YLj"
      },
      "source": [
        "# Create TFRecords"
      ]
    },
    {
      "cell_type": "code",
      "metadata": {
        "id": "LfrdFrF35AUn"
      },
      "source": [
        "def int64_feature(value):\n",
        "    return tf.train.Feature(int64_list=tf.train.Int64List(value=[value]))\n",
        "\n",
        "def int64_list_feature(value):\n",
        "    return tf.train.Feature(int64_list=tf.train.Int64List(value=value))\n",
        "\n",
        "def bytes_feature(value):\n",
        "    return tf.train.Feature(bytes_list=tf.train.BytesList(value=[value]))\n",
        "\n",
        "def bytes_list_feature(value):\n",
        "    return tf.train.Feature(bytes_list=tf.train.BytesList(value=value))\n",
        "\n",
        "def float_feature(value):\n",
        "    return tf.train.Feature(float_list=tf.train.FloatList(value=[value]))\n",
        "\n",
        "def float_list_feature(value):\n",
        "    return tf.train.Feature(float_list=tf.train.FloatList(value=value))\n",
        "\n",
        "def _bytes_feature(value):\n",
        "    if isinstance(value, type(tf.constant(0))):\n",
        "        value = value.numpy()\n",
        "    return tf.train.Feature(bytes_list=tf.train.BytesList(value=[value]))\n",
        "\n",
        "\n",
        "def serialize_tfr(img, labels, bboxes):\n",
        "    def _serialize(img, labels, bboxes):\n",
        "        h, w = img.shape[:2]\n",
        "        img = tf.io.encode_jpeg(img)\n",
        "        # img = tf.io.serialize_tensor(img)  #creates tf.records atleast 4times larges\n",
        "        bboxes = tf.io.serialize_tensor(bboxes)\n",
        "        features = {\n",
        "            'image/h': int64_feature(h),\n",
        "            'image/w': int64_feature(w),\n",
        "            'image/img': _bytes_feature(img),\n",
        "            'image/bbox': _bytes_feature(bboxes),\n",
        "            'image/labels': int64_list_feature(labels)\n",
        "            }\n",
        "\n",
        "        tf_example = tf.train.Example(features=tf.train.Features(feature=features))\n",
        "        return tf_example.SerializeToString()\n",
        "    \n",
        "    tf_string = tf.py_function(_serialize,\n",
        "                            (img, labels, bboxes), tf.string)      \n",
        "    return tf.reshape(tf_string, ()) \n",
        "\n",
        "\n",
        "map_fn = lambda d: serialize_tfr(d['image'], d['labels'], d['objects']['bbox'])\n",
        "\n",
        "serialized_train_ds = train_ds.map(map_fn, num_parallel_calls= tf.data.experimental.AUTOTUNE)\n",
        "serialized_val_ds = val_ds.map(map_fn, num_parallel_calls= tf.data.experimental.AUTOTUNE)\n",
        "serialized_test_ds = test_ds.map(map_fn, num_parallel_calls= tf.data.experimental.AUTOTUNE)"
      ],
      "execution_count": null,
      "outputs": []
    },
    {
      "cell_type": "code",
      "metadata": {
        "id": "g27B0gH95CKo"
      },
      "source": [
        "folder = '/content/voc2007'\n",
        "os.makedirs(folder, exist_ok=True)\n",
        "train_name = 'train'\n",
        "val_name = 'val'\n",
        "test_name = 'test'\n",
        "\n",
        "#https://stackoverflow.com/a/64540388/6393479\n",
        "def write_generator(dataset, items_per_file, save_path, name):\n",
        "    for i, chunk in enumerate(dataset.batch(items_per_file)):\n",
        "        batch_ds = tf.data.Dataset.from_tensor_slices(chunk)\n",
        "        filename = f\"{os.path.join(save_path, name)}_{str(i)}.tfrecord\"\n",
        "        writer = tf.data.experimental.TFRecordWriter(filename)\n",
        "        yield batch_ds, writer, filename\n",
        "  \n",
        "for ds_chunk, wri, i in write_generator(serialized_train_ds, 512, folder, train_name):\n",
        "    wri.write(ds_chunk)\n",
        "\n",
        "for ds_chunk, wri, i in write_generator(serialized_val_ds, 512, folder, val_name):\n",
        "    wri.write(ds_chunk)\n",
        "\n",
        "for ds_chunk, wri, i in write_generator(serialized_test_ds, 512, folder, test_name):\n",
        "    wri.write(ds_chunk)"
      ],
      "execution_count": null,
      "outputs": []
    },
    {
      "cell_type": "markdown",
      "metadata": {
        "id": "8s9CLGEU5P6D"
      },
      "source": [
        "# Parsing TFrecords check"
      ]
    },
    {
      "cell_type": "code",
      "metadata": {
        "id": "lRUrpEsC5OOA"
      },
      "source": [
        "def parse_from_tfr(element):\n",
        "    # feature_description = \\\n",
        "    #     {'image': tf.io.FixedLenFeature([], tf.string, default_value=''),\n",
        "    #     'label': tf.io.FixedLenFeature([], tf.float32, default_value=0.0)}\n",
        "\n",
        "    feature_description = {\n",
        "            'image/h': tf.io.FixedLenFeature([], tf.int64, default_value=0),\n",
        "            'image/w': tf.io.FixedLenFeature([], tf.int64, default_value=0),\n",
        "            'image/img': tf.io.FixedLenFeature([], tf.string, default_value=''),\n",
        "            'image/bbox': tf.io.FixedLenFeature([], tf.string, default_value=''),\n",
        "            'image/labels':tf.io.VarLenFeature(tf.int64),\n",
        "            }\n",
        "    output = tf.io.parse_example(element, feature_description)\n",
        "    # h = output['image/h']\n",
        "    # w = output['image/w']\n",
        "    img = output['image/img']\n",
        "    img = tf.io.decode_jpeg(output['image/img'])\n",
        "    # img = tf.io.parse_tensor(output['image/img'], out_type = tf.uint8)\n",
        "    bbox = tf.io.parse_tensor(output['image/bbox'], out_type= tf.float32)\n",
        "    label = output['image/labels']\n",
        "    label = tf.sparse.to_dense(label)\n",
        "    return img, bbox, label\n",
        "\n",
        "te = tf.data.TFRecordDataset(['/content/voc2007/train_0.tfrecord'])\n",
        "te = te.map(parse_from_tfr)\n",
        "\n",
        "for img,_,i in te.take(10):\n",
        "    print(img.shape)"
      ],
      "execution_count": null,
      "outputs": []
    },
    {
      "cell_type": "markdown",
      "metadata": {
        "id": "gzz8CyRy5lAl"
      },
      "source": [
        "# Upload to Kaggle"
      ]
    },
    {
      "cell_type": "code",
      "metadata": {
        "id": "PcWnedBn5pVc"
      },
      "source": [
        "! pip install -q kaggle\n",
        "from google.colab import files\n",
        "files.upload()\n",
        "! mkdir ~/.kaggle\n",
        "! cp kaggle.json ~/.kaggle/\n",
        "! chmod 600 ~/.kaggle/kaggle.json"
      ],
      "execution_count": null,
      "outputs": []
    },
    {
      "cell_type": "code",
      "metadata": {
        "id": "6n5xlR4N5sfv"
      },
      "source": [
        "folder = \"/content/voc2007\"\n",
        "%cd {folder}\n",
        "! kaggle datasets init"
      ],
      "execution_count": null,
      "outputs": []
    },
    {
      "cell_type": "code",
      "metadata": {
        "id": "1cal2AfJ5wo6"
      },
      "source": [
        "! kaggle datasets create -p {folder}"
      ],
      "execution_count": null,
      "outputs": []
    }
  ]
}